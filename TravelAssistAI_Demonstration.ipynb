{
 "cells": [
  {
   "cell_type": "markdown",
   "id": "90bb1e2a",
   "metadata": {
    "id": "90bb1e2a"
   },
   "source": [
    "# TravelAssist AI"
   ]
  },
  {
   "cell_type": "markdown",
   "id": "5bf1cc72",
   "metadata": {
    "id": "5bf1cc72"
   },
   "source": [
    "## Part 1: Introduction\n",
    "\n",
    "#### Project Background\n",
    "\n",
    "In today's busy and fast paced life, everyone wants a quick escape every now and then in form of a holiday. However, the overwhelming number of choices and the lack of personalized assistance can make the holiday planning daunting. To address this, we have developed **TravelAssist AI, a chatbot that combines the power of large language models and rule-based functions to ensure accurate and reliable information delivery**.\n",
    "\n",
    "\n",
    "#### Problem Statement\n",
    "\n",
    "*Given a dataset containing information about holiday packages (Package name, destination, No. of days, Sighseeing etc.), build a chatbot that parses the dataset and provides accurate holiday recommendations based on user requirements*.\n",
    "\n",
    "\n",
    "#### Dataset\n",
    "Data is gathered form Kaggle's make my trip dataset on holiday package from the follwing link: 'https://www.kaggle.com/datasets/promptcloud/travel-listing-from-makemytrip' \n",
    "\n",
    "Original dataset contained 30k rows, however for this problem statement this has been trimmed down to just 4 rows.\n",
    "\n",
    "\n",
    "\n",
    "\n"
   ]
  },
  {
   "cell_type": "markdown",
   "id": "81bc7e3b",
   "metadata": {
    "id": "81bc7e3b"
   },
   "source": [
    "#### Approach:\n",
    "\n",
    "1. **Conversation and Information Gathering**: The chatbot will utilize language models to understand and generate natural responses. Through a conversational flow, it will ask relevant questions to gather information about the user's requirements.\n",
    "2. **Information Extraction**: Once the essential information is collected, rule-based functions come into play, extracting relevant holiday packages that best matches the user's needs.\n",
    "3. **Personalized Recommendation**: Leveraging this extracted information, the chatbot engages in further dialogue with the user, efficiently addressing their queries and aiding them in answering any question related to the package."
   ]
  },
  {
   "cell_type": "markdown",
   "id": "5e7aada9",
   "metadata": {
    "id": "5e7aada9"
   },
   "source": [
    "## Part 2: System Design\n",
    "\n",
    "#### Dataset"
   ]
  },
  {
   "cell_type": "markdown",
   "id": "a43fb33e",
   "metadata": {
    "id": "a43fb33e"
   },
   "source": [
    "We have a dataset `HolidayData.xlsx` where  each row describes the features of a holiday package. The chatbot that we build will leverage LLMs to converse with user to identify their specific needs and then recommend the matching holiday packages from the dataset"
   ]
  },
  {
   "cell_type": "markdown",
   "id": "281ca223",
   "metadata": {
    "id": "281ca223"
   },
   "source": [
    "#### Building the Chatbot\n",
    "\n",
    "Now let's go ahead and understand the system design for the chatbot.\n",
    "\n",
    "[Chatbot_sys_design.png](https://drive.google.com/uc?id=1j-mw_dNcbxGcelQ0PmkDB0nKOpauU1wX)"
   ]
  },
  {
   "cell_type": "markdown",
   "id": "51b581e9",
   "metadata": {
    "id": "51b581e9"
   },
   "source": [
    "As shown in the image, the chatbot contains the following layers:\n",
    "- Intent Clarity Layer\n",
    "- Intent Confirmation Layer\n",
    "- Product Mapping Layer\n",
    "- Product Information Extraction Layer\n",
    "- Product Recommendation Layer"
   ]
  },
  {
   "cell_type": "markdown",
   "id": "bbceebf1",
   "metadata": {
    "id": "bbceebf1"
   },
   "source": [
    "##### Major functions behind the Chatbot\n",
    "\n",
    "Let's now look at a brief overview of the major functions that form the chatbot. We'll take a deep dive later\n",
    "\n",
    "\n",
    "\n",
    "- `initialize_conversation()`: This initializes the variable conversation with the system message.\n",
    "- `get_chat_model_completions()`: This takes the ongoing conversation as the input and returns the response by the assistant\n",
    "- `moderation_check()`: This checks if the user's or the assistant's message is inappropriate. If any of these is inappropriate, it ends the conversation.\n",
    "- `intent_confirmation_layer()`: This function takes the assistant's response and evaluates if the chatbot has captured the user's profile clearly. Specifically, this checks if the following properties for the user has been captured or not 'Destination','Package','Origin','Duration','Budget'\n",
    "- `dictionary_present()`: This function checks if the final understanding of user's profile is returned by the chatbot as a python dictionary or not. If there is a dictionary, it extracts the information as a Python dictionary.\n",
    "- `compare_holiday_with_user()`: This function compares the user's requirements with the different holiday packages and come back with the top 3 recommendations.\n",
    "- `initialize_conv_reco()`: Initializes the recommendations conversation"
   ]
  },
  {
   "cell_type": "markdown",
   "id": "59bd717d",
   "metadata": {
    "id": "59bd717d"
   },
   "source": [
    "## Part 3: Implementation"
   ]
  },
  {
   "cell_type": "markdown",
   "id": "680b636d",
   "metadata": {
    "id": "680b636d"
   },
   "source": [
    "### 3.1 - Import the libraries\n",
    "\n",
    "Let's start by importing the libraries that we'll require for this project. Following are the ones:\n",
    "- openai\n",
    "- pandas\n",
    "- os, json, ast\n",
    "\n"
   ]
  },
  {
   "cell_type": "code",
   "execution_count": 504,
   "id": "65e05f4f",
   "metadata": {
    "id": "65e05f4f"
   },
   "outputs": [],
   "source": [
    "import os,json,ast\n",
    "import openai\n",
    "import pandas as pd"
   ]
  },
  {
   "cell_type": "code",
   "execution_count": 505,
   "id": "7c90af6c",
   "metadata": {
    "id": "7c90af6c"
   },
   "outputs": [],
   "source": [
    "# read the API key\n",
    "openai.api_key = open(\"OPENAI_API_Key.txt\", \"r\").read().strip()"
   ]
  },
  {
   "cell_type": "markdown",
   "id": "f6597837",
   "metadata": {
    "id": "f6597837"
   },
   "source": [
    "### 3.2 - Implementing Intent Clarity and Intent Confirmation Layers\n",
    "\n",
    "Let's start with the first part of the implementation - building the `intent clarity` and `intent confirmation` layers. As mentioned earlier, this layer helps in identifying the user requirements and passing it on to the product matching layer. Here are the functions that we would be using for building these layers:\n",
    "\n",
    "- `initialize_conversation()`: This initializes the variable conversation with the system message. used prompt engineering and chain of thought reasoning, the function will enable the chatbot to keep asking questions until the user requirements have been captured in a dictionary. It also includes Few Shot Prompting(sample conversation between the user and assistant) to align the model about user and assistant responses at each step.\n"
   ]
  },
  {
   "cell_type": "code",
   "execution_count": 507,
   "id": "991f11a9-5fe3-425f-9d3e-360ad0ed1e59",
   "metadata": {},
   "outputs": [],
   "source": [
    "def initialize_conversation():\n",
    "    '''\n",
    "    Returns a list [{\"role\": \"system\", \"content\": system_message}]\n",
    "    '''\n",
    "\n",
    "    delimiter = \"####\"\n",
    "    example_user_req = {'Destination': 'Manali', 'Package': 'Deluxe', 'Origin': 'New Delhi', 'Duration': '4', 'Budget': '15000 INR'}\n",
    "\n",
    "    system_message = f\"\"\"\n",
    "\n",
    "    You are an intelligent holiday planner and your goal is to find the best holiday package for a user.\n",
    "    Your objective is to extract the correct values for the following keys in a dictionary:\n",
    "    - 'Destination'\n",
    "    - 'Package'\n",
    "    - 'Origin'\n",
    "    - 'Duration'\n",
    "    - 'Budget'\n",
    "    \n",
    "    The values must be inferred **only from the user's responses**. Do not assume or assign values randomly.\n",
    "\n",
    "    {delimiter} **Duration Extraction Rules:** {delimiter}\n",
    "    - The user may specify duration in different ways:\n",
    "      - **\"6 nights\"** → Extract **6**  \n",
    "      - **\"for 6 nights\"** → Extract **6**  \n",
    "      - **\"I want to stay 6 nights\"** → Extract **6**  \n",
    "      - **\"I am planning for 6 nights\"** → Extract **6**  \n",
    "      - **\"I plan to stay for 5 days\"** → Extract **5**  \n",
    "    - Once the duration is successfully extracted, **do not ask again**.  \n",
    "    - If unclear, ask **\"How many nights do you plan to stay?\"**  \n",
    "    - If the response is vague (e.g., \"a few days\"), ask for clarification.  \n",
    "    - If the user has already provided a clear response (e.g., **\"I would like to plan for 6 nights\"**), store it and **move to the next question.**    \n",
    "    - If the response is vague (e.g., \"a few days\"), ask for clarification.\n",
    "\n",
    "    {delimiter} **Important Rules for Extracting Values:** {delimiter}\n",
    "    - **Budget:** Extract a numerical value. The minimum budget should be **6500 INR**. If the user provides a lower budget, inform them that no packages are available in that range.\n",
    "    - **Duration:** Extract a numerical value from user input (e.g., \"3 nights,\" \"for 5 days\").  \n",
    "      - If a user provides **\"3 nights\"**, consider it as `3`.  \n",
    "      - If a user provides **\"for 5 days\"**, consider it as `5`.  \n",
    "      - If unclear, politely **ask the user again in a new way** (instead of repeating the same question).\n",
    "    - **Origin:** Must be either **\"Mumbai\"** or **\"New Delhi\"**. If the user mentions another city, inform them that only Mumbai and New Delhi are supported.\n",
    "    - **Package:** Offer the user **four choices** – Premium, Deluxe, Luxury, Standard.\n",
    "\n",
    "    {delimiter} **Improvement: Avoid Unnecessary Modifications Prompt** {delimiter}\n",
    "    - Once all details are collected, **DO NOT ask \"Is there anything else you would like to modify?\"**\n",
    "    - Instead, immediately show available package options.\n",
    "\n",
    "    {delimiter} **Structured Thought Process for Filling Values** {delimiter}\n",
    "    **Thought 1:** Start by confirming the **Destination** and **Duration**.  \n",
    "      - If the user mentions a destination but **not the duration**, ask about duration in a natural, conversational way.  \n",
    "      - Example:  \n",
    "        - User: \"I want to visit Manali.\"  \n",
    "        - Assistant: \"Great! How many nights do you plan to stay?\"  \n",
    "      - Ensure that a **valid numerical value** is extracted for duration.\n",
    "\n",
    "    **Thought 2:** Ask for missing details (**Package, Origin, and Budget**) logically.  \n",
    "      - Do not ask multiple questions at once.  \n",
    "      - Example:  \n",
    "        - User: \"I'll start from Mumbai.\"  \n",
    "        - Assistant: \"Thank you! Could you let me know your preferred package – Premium, Deluxe, Luxury, or Standard?\"  \n",
    "\n",
    "    **Thought 3:** Confirm that all details have been collected correctly. If any value is missing, ask for clarification.  \n",
    "\n",
    "    {delimiter} **Example Conversation Flow:** {delimiter}\n",
    "    **User:** \"Hi, I want to visit Manali.\"  \n",
    "    **Assistant:** \"Great! How many nights do you plan to stay in Manali?\"  \n",
    "    **User:** \"I want to stay for 3 nights.\"  \n",
    "    **Assistant:** \"Thank you! Which package would you like to choose – Premium, Deluxe, Luxury, or Standard?\"  \n",
    "    **User:** \"I'll take Deluxe.\"  \n",
    "    **Assistant:** \"Thanks! Could you confirm whether your starting city is Mumbai or New Delhi?\"  \n",
    "    **User:** \"New Delhi.\"  \n",
    "    **Assistant:** \"Great! Lastly, please share your per-person budget for the trip.\"  \n",
    "    **User:** \"My budget is 15,000 INR.\"  \n",
    "    **Assistant:** {example_user_req}  \n",
    "\n",
    "    Start the conversation with a **friendly welcome message** and guide the user to share their preferences.\n",
    "    \"\"\"\n",
    "    conversation = [{\"role\": \"system\", \"content\": system_message}]\n",
    "    return conversation\n"
   ]
  },
  {
   "cell_type": "code",
   "execution_count": 508,
   "id": "ae92d8e0",
   "metadata": {
    "id": "ae92d8e0",
    "outputId": "101bd0fa-c51d-4396-e305-1d30c4ba35ae",
    "scrolled": true
   },
   "outputs": [
    {
     "name": "stdout",
     "output_type": "stream",
     "text": [
      "[{'role': 'system', 'content': '\\n\\n    You are an intelligent holiday planner and your goal is to find the best holiday package for a user.\\n    Your objective is to extract the correct values for the following keys in a dictionary:\\n    - \\'Destination\\'\\n    - \\'Package\\'\\n    - \\'Origin\\'\\n    - \\'Duration\\'\\n    - \\'Budget\\'\\n    \\n    The values must be inferred **only from the user\\'s responses**. Do not assume or assign values randomly.\\n\\n    #### **Duration Extraction Rules:** ####\\n    - The user may specify duration in different ways:\\n      - **\"6 nights\"** → Extract **6**  \\n      - **\"for 6 nights\"** → Extract **6**  \\n      - **\"I want to stay 6 nights\"** → Extract **6**  \\n      - **\"I am planning for 6 nights\"** → Extract **6**  \\n      - **\"I plan to stay for 5 days\"** → Extract **5**  \\n    - Once the duration is successfully extracted, **do not ask again**.  \\n    - If unclear, ask **\"How many nights do you plan to stay?\"**  \\n    - If the response is vague (e.g., \"a few days\"), ask for clarification.  \\n    - If the user has already provided a clear response (e.g., **\"I would like to plan for 6 nights\"**), store it and **move to the next question.**    \\n    - If the response is vague (e.g., \"a few days\"), ask for clarification.\\n\\n    #### **Important Rules for Extracting Values:** ####\\n    - **Budget:** Extract a numerical value. The minimum budget should be **6500 INR**. If the user provides a lower budget, inform them that no packages are available in that range.\\n    - **Duration:** Extract a numerical value from user input (e.g., \"3 nights,\" \"for 5 days\").  \\n      - If a user provides **\"3 nights\"**, consider it as `3`.  \\n      - If a user provides **\"for 5 days\"**, consider it as `5`.  \\n      - If unclear, politely **ask the user again in a new way** (instead of repeating the same question).\\n    - **Origin:** Must be either **\"Mumbai\"** or **\"New Delhi\"**. If the user mentions another city, inform them that only Mumbai and New Delhi are supported.\\n    - **Package:** Offer the user **four choices** – Premium, Deluxe, Luxury, Standard.\\n\\n    #### **Improvement: Avoid Unnecessary Modifications Prompt** ####\\n    - Once all details are collected, **DO NOT ask \"Is there anything else you would like to modify?\"**\\n    - Instead, immediately show available package options.\\n\\n    #### **Structured Thought Process for Filling Values** ####\\n    **Thought 1:** Start by confirming the **Destination** and **Duration**.  \\n      - If the user mentions a destination but **not the duration**, ask about duration in a natural, conversational way.  \\n      - Example:  \\n        - User: \"I want to visit Manali.\"  \\n        - Assistant: \"Great! How many nights do you plan to stay?\"  \\n      - Ensure that a **valid numerical value** is extracted for duration.\\n\\n    **Thought 2:** Ask for missing details (**Package, Origin, and Budget**) logically.  \\n      - Do not ask multiple questions at once.  \\n      - Example:  \\n        - User: \"I\\'ll start from Mumbai.\"  \\n        - Assistant: \"Thank you! Could you let me know your preferred package – Premium, Deluxe, Luxury, or Standard?\"  \\n\\n    **Thought 3:** Confirm that all details have been collected correctly. If any value is missing, ask for clarification.  \\n\\n    #### **Example Conversation Flow:** ####\\n    **User:** \"Hi, I want to visit Manali.\"  \\n    **Assistant:** \"Great! How many nights do you plan to stay in Manali?\"  \\n    **User:** \"I want to stay for 3 nights.\"  \\n    **Assistant:** \"Thank you! Which package would you like to choose – Premium, Deluxe, Luxury, or Standard?\"  \\n    **User:** \"I\\'ll take Deluxe.\"  \\n    **Assistant:** \"Thanks! Could you confirm whether your starting city is Mumbai or New Delhi?\"  \\n    **User:** \"New Delhi.\"  \\n    **Assistant:** \"Great! Lastly, please share your per-person budget for the trip.\"  \\n    **User:** \"My budget is 15,000 INR.\"  \\n    **Assistant:** {\\'Destination\\': \\'Manali\\', \\'Package\\': \\'Deluxe\\', \\'Origin\\': \\'New Delhi\\', \\'Duration\\': \\'4\\', \\'Budget\\': \\'15000 INR\\'}  \\n\\n    Start the conversation with a **friendly welcome message** and guide the user to share their preferences.\\n    '}]\n"
     ]
    }
   ],
   "source": [
    "debug_conversation = initialize_conversation()\n",
    "print(debug_conversation)"
   ]
  },
  {
   "cell_type": "markdown",
   "id": "00f77346",
   "metadata": {
    "id": "00f77346"
   },
   "source": [
    "Building the next function\n",
    "- `get_chat_model_completions()`: This takes the ongoing conversation as the input and returns the response by the assistant"
   ]
  },
  {
   "cell_type": "code",
   "execution_count": 509,
   "id": "392f0ee6-8171-4b7f-b35c-bb7c10ad4e7d",
   "metadata": {},
   "outputs": [],
   "source": [
    "import os, json, ast\n",
    "import openai\n",
    "from tenacity import retry, wait_random_exponential, stop_after_attempt"
   ]
  },
  {
   "cell_type": "code",
   "execution_count": 510,
   "id": "2927b592",
   "metadata": {
    "id": "2927b592"
   },
   "outputs": [],
   "source": [
    "# Define a Chat Completions API call\n",
    "def get_chat_model_completions(input, json_format = False):\n",
    "    MODEL = 'gpt-3.5-turbo'\n",
    "\n",
    "    system_message_json_output = \"\"\"<<. Return output in JSON format to the key output.>>\"\"\"\n",
    "\n",
    "    # If the output is required to be in JSON format\n",
    "    if json_format == True:\n",
    "        # Append the input prompt to include JSON response as specified by OpenAI\n",
    "        input[0]['content'] += system_message_json_output\n",
    "\n",
    "        # JSON return type specified\n",
    "        chat_completion_json = openai.chat.completions.create(\n",
    "            model = MODEL,\n",
    "            messages = input,\n",
    "            response_format = { \"type\": \"json_object\"},\n",
    "            seed = 1234)\n",
    "\n",
    "        output = json.loads(chat_completion_json.choices[0].message.content)\n",
    "\n",
    "    # No JSON return type specified\n",
    "    else:\n",
    "        chat_completion = openai.chat.completions.create(\n",
    "            model = MODEL,\n",
    "            messages = input,\n",
    "            seed = 2345)\n",
    "\n",
    "        output = chat_completion.choices[0].message.content\n",
    "\n",
    "    return output"
   ]
  },
  {
   "cell_type": "markdown",
   "id": "af181448",
   "metadata": {
    "id": "af181448"
   },
   "source": [
    "Let's pass the initialized conversation `debug_conversation` and see what is the assistant's response."
   ]
  },
  {
   "cell_type": "code",
   "execution_count": 512,
   "id": "350cfb8f",
   "metadata": {
    "id": "350cfb8f",
    "outputId": "54b9490a-baee-453b-b4b3-afc2a3a99e80",
    "scrolled": true
   },
   "outputs": [
    {
     "name": "stdout",
     "output_type": "stream",
     "text": [
      "Welcome! I can help you find the perfect holiday package. Where would you like to go?\n"
     ]
    }
   ],
   "source": [
    "debug_introduction = get_chat_model_completions(debug_conversation)\n",
    "print(debug_introduction)"
   ]
  },
  {
   "cell_type": "markdown",
   "id": "7dca90c2",
   "metadata": {
    "id": "7dca90c2"
   },
   "source": [
    "We can play around a bit and add the following user's input `debug_user_input` to the conversation `debug_conversation` and see what the assistant responds with."
   ]
  },
  {
   "cell_type": "code",
   "execution_count": 513,
   "id": "7fca12a4",
   "metadata": {
    "id": "7fca12a4"
   },
   "outputs": [],
   "source": [
    "debug_user_input = \"Hi, I am Uday Kiran Pujaari. I want to visit Kashmir.\""
   ]
  },
  {
   "cell_type": "code",
   "execution_count": 514,
   "id": "fdd0a9ed",
   "metadata": {
    "id": "fdd0a9ed",
    "outputId": "87c80cbb-f918-4c77-b58b-59cd63884a8d"
   },
   "outputs": [
    {
     "name": "stdout",
     "output_type": "stream",
     "text": [
      "Great! How many nights do you plan to stay in Kashmir?\n"
     ]
    }
   ],
   "source": [
    "debug_conversation.append({\"role\": \"user\", \"content\": debug_user_input})\n",
    "debug_response_assistant = get_chat_model_completions(debug_conversation)\n",
    "print(debug_response_assistant)"
   ]
  },
  {
   "cell_type": "code",
   "execution_count": 515,
   "id": "2b974f5a",
   "metadata": {},
   "outputs": [],
   "source": [
    "debug_user_input = \"i would like to visit for 5 nights\""
   ]
  },
  {
   "cell_type": "code",
   "execution_count": 516,
   "id": "7d3d3baf",
   "metadata": {},
   "outputs": [
    {
     "name": "stdout",
     "output_type": "stream",
     "text": [
      "Great choice! Which package would you like to choose for your trip to Kashmir – Premium, Deluxe, Luxury, or Standard?\n"
     ]
    }
   ],
   "source": [
    "debug_conversation.append({\"role\": \"user\", \"content\": debug_user_input})\n",
    "debug_response_assistant = get_chat_model_completions(debug_conversation)\n",
    "print(debug_response_assistant)"
   ]
  },
  {
   "cell_type": "code",
   "execution_count": 517,
   "id": "1dd61775",
   "metadata": {},
   "outputs": [],
   "source": [
    "debug_user_input = \"i'd go with Premium\""
   ]
  },
  {
   "cell_type": "code",
   "execution_count": 518,
   "id": "94cea6d2",
   "metadata": {},
   "outputs": [
    {
     "name": "stdout",
     "output_type": "stream",
     "text": [
      "Thank you for providing the information.  \n",
      "Could you please confirm whether your starting city is Mumbai or New Delhi?\n"
     ]
    }
   ],
   "source": [
    "debug_conversation.append({\"role\": \"user\", \"content\": debug_user_input})\n",
    "debug_response_assistant = get_chat_model_completions(debug_conversation)\n",
    "print(debug_response_assistant)"
   ]
  },
  {
   "cell_type": "code",
   "execution_count": 519,
   "id": "e822aa18",
   "metadata": {},
   "outputs": [],
   "source": [
    "debug_user_input = \"Mumbai\""
   ]
  },
  {
   "cell_type": "code",
   "execution_count": 520,
   "id": "2628a095",
   "metadata": {},
   "outputs": [
    {
     "name": "stdout",
     "output_type": "stream",
     "text": [
      "Great choice, Uday Kiran Pujaari! Could you please share your per-person budget for the trip to Kashmir?\n"
     ]
    }
   ],
   "source": [
    "debug_conversation.append({\"role\": \"user\", \"content\": debug_user_input})\n",
    "debug_response_assistant = get_chat_model_completions(debug_conversation)\n",
    "print(debug_response_assistant)"
   ]
  },
  {
   "cell_type": "code",
   "execution_count": 521,
   "id": "af362b99",
   "metadata": {},
   "outputs": [],
   "source": [
    "debug_user_input = 'my max budget is 50000 INR'"
   ]
  },
  {
   "cell_type": "code",
   "execution_count": 522,
   "id": "7adb856b",
   "metadata": {},
   "outputs": [
    {
     "name": "stdout",
     "output_type": "stream",
     "text": [
      "Great choice! Here is the holiday package option I have tailored for you:\n",
      "\n",
      "- Destination: Kashmir\n",
      "- Duration: 5 nights\n",
      "- Package: Premium\n",
      "- Origin: Mumbai\n",
      "- Budget: 50000 INR\n",
      "\n",
      "Enjoy your trip to Kashmir! If you need any further assistance or want to explore more options, feel free to ask.\n"
     ]
    }
   ],
   "source": [
    "debug_conversation.append({\"role\": \"user\", \"content\": debug_user_input})\n",
    "debug_response_assistant = get_chat_model_completions(debug_conversation)\n",
    "print(debug_response_assistant)"
   ]
  },
  {
   "cell_type": "markdown",
   "id": "389ae50b",
   "metadata": {
    "id": "389ae50b"
   },
   "source": [
    "Typically, whenever the chatbot is interacting with the user, all the conversations should be moderated to identify any inappropriate content. Let's look at the function that can help with it."
   ]
  },
  {
   "cell_type": "markdown",
   "id": "5cc13511",
   "metadata": {
    "id": "5cc13511"
   },
   "source": [
    "- `moderation_check()`: This checks if the user's or the assistant's message is inappropriate. If any of these is inappropriate, one can add a break statement to end the conversation."
   ]
  },
  {
   "cell_type": "code",
   "execution_count": 523,
   "id": "e5c799b4",
   "metadata": {
    "id": "e5c799b4"
   },
   "outputs": [],
   "source": [
    "# Define a function called moderation_check that takes user_input as a parameter.\n",
    "\n",
    "def moderation_check(user_input):\n",
    "    # Call the OpenAI API to perform moderation on the user's input.\n",
    "    response = openai.moderations.create(input=user_input)\n",
    "\n",
    "    # Extract the moderation result from the API response.\n",
    "    moderation_output = response.results[0].flagged\n",
    "    # Check if the input was flagged by the moderation system.\n",
    "    if response.results[0].flagged == True:\n",
    "        # If flagged, return \"Flagged\"\n",
    "        return \"Flagged\"\n",
    "    else:\n",
    "        # If not flagged, return \"Not Flagged\"\n",
    "        return \"Not Flagged\""
   ]
  },
  {
   "cell_type": "markdown",
   "id": "8c9225ae",
   "metadata": {
    "id": "8c9225ae"
   },
   "source": [
    "Let's test moderation on the `debug_user_input`"
   ]
  },
  {
   "cell_type": "code",
   "execution_count": 524,
   "id": "86d12659",
   "metadata": {
    "id": "86d12659",
    "outputId": "1ce666c8-9452-4e46-a527-7ee323158d6f"
   },
   "outputs": [
    {
     "name": "stdout",
     "output_type": "stream",
     "text": [
      "Not Flagged\n"
     ]
    }
   ],
   "source": [
    "debug_moderation = moderation_check(debug_user_input)\n",
    "print(debug_moderation)"
   ]
  },
  {
   "cell_type": "markdown",
   "id": "f458b471",
   "metadata": {
    "id": "f458b471"
   },
   "source": [
    "Let's now test moderation on some other text."
   ]
  },
  {
   "cell_type": "markdown",
   "id": "ececb22e",
   "metadata": {
    "id": "ececb22e"
   },
   "source": [
    "Let's now check moderation on the assistant's response `debug_response_assistant`."
   ]
  },
  {
   "cell_type": "code",
   "execution_count": 525,
   "id": "e289d1c1",
   "metadata": {
    "id": "e289d1c1",
    "outputId": "b470b9eb-a8cd-4644-c046-1ad54a304a80"
   },
   "outputs": [
    {
     "data": {
      "text/plain": [
       "'Not Flagged'"
      ]
     },
     "execution_count": 525,
     "metadata": {},
     "output_type": "execute_result"
    }
   ],
   "source": [
    "moderation_check(debug_response_assistant)"
   ]
  },
  {
   "cell_type": "markdown",
   "id": "543bca28",
   "metadata": {
    "id": "543bca28"
   },
   "source": [
    "- `intent_confirmation_layer()`: This function takes the assistant's response and evaluates if the chatbot has captured the user's profile clearly. Specifically, this checks if the following properties for the user has been captured or not\n",
    "   - Destination\n",
    "   - Package\n",
    "   - Origin\n",
    "   - Duration\n",
    "   - Budget"
   ]
  },
  {
   "cell_type": "code",
   "execution_count": 526,
   "id": "b6f4c3fb",
   "metadata": {
    "id": "b6f4c3fb"
   },
   "outputs": [],
   "source": [
    "def intent_confirmation_layer(response_assistant):\n",
    "    delimiter = \"####\"\n",
    "    prompt = f\"\"\"\n",
    "    You are a senior evaluator who has an eye for detail.\n",
    "    You are provided an input. You need to evaluate if the input has the following keys: 'Destination','Package','Origin','Duration','Budget'\n",
    "    Next you need to evaluate if the keys have the the values filled correctly.\n",
    "    - The value for the key 'Budget' needs to contain a number with currency.\n",
    "    - The value of key 'Package' needs to be either  'Premium', 'Deluxe' , 'Luxury' or 'Standard'\n",
    "    - The value of key 'Duration' needs to contain a number\n",
    "    - The value of key 'Origin' should either be 'New Delhi' or 'Mumbai'\n",
    "    Only output a one-word string in JSON format at the key 'result' - Yes/No.\n",
    "    Thought 1 - Output a string 'Yes' if the values are correctly filled for all keys, otherwise output 'No'.\n",
    "    Thought 2 - If the answer is No, mention the reason in the key 'reason'.\n",
    "    Thought 3 - Think carefully before the answering..\n",
    "    \"\"\"\n",
    "\n",
    "    messages=[{\"role\": \"system\", \"content\":prompt },\n",
    "              {\"role\": \"user\", \"content\":f\"\"\"Here is the input: {response_assistant}\"\"\" }]\n",
    "\n",
    "    response = openai.chat.completions.create(\n",
    "                                    model=\"gpt-3.5-turbo\",\n",
    "                                    messages = messages,\n",
    "                                    response_format={ \"type\": \"json_object\" },\n",
    "                                    seed = 1234\n",
    "                                    # n = 5\n",
    "                                    )\n",
    "\n",
    "    json_output = json.loads(response.choices[0].message.content)\n",
    "\n",
    "    return json_output"
   ]
  },
  {
   "cell_type": "markdown",
   "id": "356fc469",
   "metadata": {
    "id": "356fc469"
   },
   "source": [
    "Let's apply the function to the assistant's reponse and see if it has captured the user profile."
   ]
  },
  {
   "cell_type": "code",
   "execution_count": 527,
   "id": "89031a63",
   "metadata": {
    "id": "89031a63",
    "outputId": "580ae934-3a77-43e5-a3f7-820c57e50f7c"
   },
   "outputs": [
    {
     "name": "stdout",
     "output_type": "stream",
     "text": [
      "{'result': 'Yes'}\n"
     ]
    }
   ],
   "source": [
    "debug_confirmation = intent_confirmation_layer(debug_response_assistant)\n",
    "print(debug_confirmation)"
   ]
  },
  {
   "cell_type": "markdown",
   "id": "4fc34f79",
   "metadata": {
    "id": "4fc34f79"
   },
   "source": [
    "Now, you can keep adding user and assistant responses to debug_conversation and get to a point where intent_confirmation_layer() \n"
   ]
  },
  {
   "cell_type": "markdown",
   "id": "8941aef4",
   "metadata": {
    "id": "8941aef4"
   },
   "source": [
    "- `dictionary_present()`: This function checks if the final understanding of user's profile is returned by the chatbot is a Python dictionary or not. This is important as it'll be used later on for finding the right holiday packages using dictionary matching."
   ]
  },
  {
   "cell_type": "code",
   "execution_count": 528,
   "id": "02fd17b7",
   "metadata": {
    "id": "02fd17b7"
   },
   "outputs": [],
   "source": [
    "def dictionary_present(response):\n",
    "    delimiter = \"####\"\n",
    "    user_req = {'Destination': 'Katra','Package': 'Premium','Origin': 'New Delhi','Duration': '5','Budget': '15000 INR'}\n",
    "    prompt = f\"\"\"You are a python expert. You are provided an input.\n",
    "            You have to check if there is a python dictionary present in the string.\n",
    "            It will have the following format {user_req}.\n",
    "            Your task is to just extract and return only the python dictionary from the input.\n",
    "            The output should match the format as {user_req}.\n",
    "            The output should contain the exact keys and values as present in the input.\n",
    "\n",
    "            Here are some sample input output pairs for better understanding:\n",
    "            {delimiter}\n",
    "            input 1: - Destination: Manali - Package: Luxury - Origin: Delhi - Duration: 4 - Budget: 50,000 INR\n",
    "            output 1: {{'Destination': 'Manali', 'Package': 'Luxury', 'Origin': 'New Delhi', 'Duration': '4', 'Budget': '50000'}}\n",
    "\n",
    "            input 2: {{'Destination':     'jaipur', 'Package':     'Standard', 'Origin':    'Mumbai', 'Duration': '4','Budget': '90,000'}}\n",
    "            output 2: {{'Destination': 'Jaipur', 'Package': 'Standard', 'Origin': 'Mumbai', 'Duration': '4', 'Budget': '90000'}}\n",
    "\n",
    "            input 3: Here is your user profile 'Destination': 'Ooty','Package': 'Deluxe','Origin': 'New Delhi','Duration': '5','Budget': '100000 INR'\n",
    "            output 3: {{'Destination': 'Ooty', 'Package': 'Deluxe', 'Origin': 'New Delhi', 'Duration': '5', 'Budget': '100000'}}\n",
    "            {delimiter}\n",
    "\n",
    "            \"\"\"\n",
    "\n",
    "    messages = [{\"role\": \"system\", \"content\":prompt },\n",
    "                {\"role\": \"user\", \"content\":f\"\"\"Here is the user input: {response}\"\"\" }]\n",
    "    \n",
    "    confirmation = get_chat_model_completions(messages, json_format = True)\n",
    "\n",
    "    return confirmation.get(\"output\", confirmation) "
   ]
  },
  {
   "cell_type": "markdown",
   "id": "01dd4ca1",
   "metadata": {
    "id": "01dd4ca1"
   },
   "source": [
    "Let's start by passing the `debug_response_assistant`."
   ]
  },
  {
   "cell_type": "code",
   "execution_count": 529,
   "id": "c9795d76",
   "metadata": {
    "id": "c9795d76",
    "outputId": "fea891f2-8036-4843-8cac-ce5b786f7604"
   },
   "outputs": [
    {
     "name": "stdout",
     "output_type": "stream",
     "text": [
      "{'Destination': 'Kashmir', 'Duration': '5 nights', 'Package': 'Premium', 'Origin': 'Mumbai', 'Budget': '50000'}\n"
     ]
    }
   ],
   "source": [
    "response_dict_n = dictionary_present(debug_response_assistant)\n",
    "print(response_dict_n)"
   ]
  },
  {
   "cell_type": "markdown",
   "id": "95fe9455",
   "metadata": {
    "id": "95fe9455"
   },
   "source": [
    "What if you pass something like this where it is not in the form of a dictionary? Or some key or some values are missing? Let's see."
   ]
  },
  {
   "cell_type": "code",
   "execution_count": 530,
   "id": "706a8a28",
   "metadata": {
    "id": "706a8a28"
   },
   "outputs": [],
   "source": [
    "debug_response_assistant_n = f\"\"\"Thank you for providing your budget. Based on your budget of 50,000 INR, I will consider this while recommending suitable package options for you.\n",
    "Here is the final recommendation for your travel:\n",
    "\n",
    "- Destination: Katra\n",
    "- Package: Premium\n",
    "- Origin: Mumbai\n",
    "- Duration: 5\n",
    "- Budget: 50,000 INR\n",
    "\n",
    "Please note that these specifications are based on your requirements within your budget. Let me know if there's anything else I can assist you with!\"\"\""
   ]
  },
  {
   "cell_type": "code",
   "execution_count": 531,
   "id": "79a1d0f5",
   "metadata": {
    "id": "79a1d0f5",
    "outputId": "cabbe2eb-59d7-4301-a5bb-d2b14c89d018",
    "scrolled": true
   },
   "outputs": [
    {
     "name": "stdout",
     "output_type": "stream",
     "text": [
      "{'Destination': 'Katra', 'Package': 'Premium', 'Origin': 'Mumbai', 'Duration': '5', 'Budget': '50000 INR'}\n"
     ]
    }
   ],
   "source": [
    "response_dict_n = dictionary_present(debug_response_assistant_n)\n",
    "print(response_dict_n)"
   ]
  },
  {
   "cell_type": "markdown",
   "id": "af7ced9d",
   "metadata": {
    "id": "af7ced9d"
   },
   "source": [
    "### 3.3 Implementing the Product Mapping and Information Extraction Layers\n",
    "\n",
    "In this section, we take in the output of the previous layers, i.e. the user requirements, which is in the format of a Python dictionary, and extract the relevant holiday recommendations based on that. Here are the functions that we will use to help us implement the information extraction and product matching layers\n",
    "\n",
    "\n",
    "- `product_map_layer()`: This function is responsible for extracting key features and criteria from holiday package dataset. Here's a breakdown of how it works:\n",
    "    - Uses a prompt that assign it the role of a holiday expert, whose objective is to extract key features as per requirements\n",
    "    -  Assign specific rules for each feature.\n",
    "    - Includes Few Shot Prompting(sample conversation between the user and assistant) to demonstrate the expected result of the       feature extraction."
   ]
  },
  {
   "cell_type": "code",
   "execution_count": 532,
   "id": "89b5ad32",
   "metadata": {},
   "outputs": [],
   "source": [
    "def product_map_layer(Destination,Package,Origin,Duration):\n",
    "\n",
    "  delimiter = \"#####\"\n",
    "  holiday_spec = {\n",
    "      \"Destination\":\"(Holiday destination)\",\n",
    "      \"Package\":\"(Type of the holiday package)\",\n",
    "      \"Origin\":\"(Origin city of the holiday)\",\n",
    "      \"Duration\":\"(Maximum duration of the holiday)\"\n",
    "      \n",
    "  }\n",
    "\n",
    " \n",
    "  prompt=f\"\"\"\n",
    "  You are a Holiday expert whose job is to extract the key features of a holiday package as per their requirements.\n",
    "  Extract all the features above acccording to following rules: \\\n",
    "  {delimiter}\n",
    "  Destination: Extract the first word until you find '|'. If there is only one word, extract the same from {Destination}\n",
    "\n",
    "  Package: Extract the exact value from {Package} \n",
    "\n",
    "  Origin: Extract the exact value from {Origin}\n",
    "\n",
    "  Duration: Add all the numbers you find and output the sum from {Duration}\n",
    "\n",
    "  {delimiter}\n",
    "\n",
    "  {delimiter}\n",
    "  Here are some input output pairs for few-shot learning:\n",
    "  input1: \"Gangtok|Lachung|Gangtok|Darjeeling, Deluxe, New Delhi, 2N Gangtok . 2N Lachung . 1N Gangtok . 2N Darjeeling\"\n",
    "  output1: {{'Destination': 'Gangtok','Package':'Deluxe','Origin':'New Delhi','Duration':'7'}}\n",
    "\n",
    "  input2: \"Cochin|Munnar|Thekkady|Allepey|Kovalam and Poovar, Standard, Mumbai, 1N Cochin . 2N Munnar . 1N Thekkady . 1N Allepey . 2N Kovalam and Poovar\"\n",
    "  output2: {{'Destination': 'Cochin','Package':'Standard','Origin':'Mumbai','Duration':'7'}}\n",
    "\n",
    "  input3: \"Dharamshala, Deluxe, New Delhi, 3N Dharamshala\"\n",
    "  output3: {{'Destination': 'Dharamshala','Package':'Deluxe','Origin':'New Delhi','Duration':'3'}}\n",
    "  {delimiter}\n",
    "\n",
    "  Follow the above instructions step-by-step and output only the dictionary {holiday_spec} without any additional text for the following holiday package {Destination,Package,Origin,Duration}.\n",
    "  \"\"\"\n",
    "\n",
    "  messages=[{\"role\": \"user\",\"content\":prompt}]\n",
    "\n",
    "  response = get_chat_model_completions(messages, json_format = True)\n",
    "\n",
    "  return response"
   ]
  },
  {
   "cell_type": "markdown",
   "id": "9dba56c9",
   "metadata": {
    "id": "9dba56c9"
   },
   "source": [
    "- `extract_dictionary_from_string()`: This function takes in the output of the previous layer and extracts the user requirements dictionary"
   ]
  },
  {
   "cell_type": "code",
   "execution_count": 533,
   "id": "a96ba79b",
   "metadata": {
    "id": "a96ba79b"
   },
   "outputs": [],
   "source": [
    "import ast\n",
    "import re\n",
    "\n",
    "def extract_dictionary_from_string(string):\n",
    "    regex_pattern = r\"\\{[^{}]+\\}\"\n",
    "\n",
    "    if isinstance(string, dict):\n",
    "        return string\n",
    "        \n",
    "    dictionary_matches = re.findall(regex_pattern, string)\n",
    "\n",
    "    # Extract the first dictionary match and convert it to lowercase\n",
    "    if dictionary_matches:\n",
    "        dictionary_string = dictionary_matches[0]\n",
    "        dictionary_string = dictionary_string.lower()\n",
    "\n",
    "        # Convert the dictionary string to a dictionary object using ast.literal_eval()\n",
    "        dictionary = ast.literal_eval(dictionary_string)\n",
    "    return dictionary"
   ]
  },
  {
   "cell_type": "markdown",
   "id": "3141b150",
   "metadata": {
    "id": "3141b150"
   },
   "source": [
    "- `compare_holiday_with_user()`: This function compares the user's profile with the different holiday packages and come back with the top  recommendations. It will perform the following steps:\n",
    "    - It will take the user requirements dictionary as input\n",
    "    - Filter the holidays based on their per person budget, keeping only the ones within the user's budget.\n",
    "    - Match the user requirement with holiday data.\n",
    "    - Return the matching holidays as a JSON-formatted string."
   ]
  },
  {
   "cell_type": "code",
   "execution_count": 534,
   "id": "e9346406",
   "metadata": {},
   "outputs": [],
   "source": [
    "def compare_holiday_with_user(user_req_string):\n",
    "    holiday_df = pd.read_excel('HolidayData.xlsx')\n",
    "\n",
    "    ## Create a new column \"holiday_feature\" that contains the dictionary of the product features\n",
    "    holiday_df['holiday_feature'] = holiday_df.apply(\n",
    "        lambda x: product_map_layer(x['Destination'], x['Package Type'], x['Start City'], x['Itinerary']), \n",
    "        axis=1\n",
    "    )\n",
    "\n",
    "    # Extract user requirements into a dictionary\n",
    "    user_requirements = extract_dictionary_from_string(user_req_string)\n",
    "\n",
    "    # Extract and process the budget safely\n",
    "    budget_str = user_requirements.get('Budget', '0').replace(',', '').split()\n",
    "    budget = int(budget_str[0]) if budget_str else 0  # Handles missing budget values\n",
    "\n",
    "    # Filter holidays where 'Per Person Price' is within budget\n",
    "    filtered_holiday = holiday_df[holiday_df['Per Person Price'] <= budget].copy()\n",
    "\n",
    "    print('user_requirements:', user_requirements)\n",
    "\n",
    "    # Safely remove 'Budget' from user_requirements\n",
    "    user_requirements.pop('Budget', None)\n",
    "\n",
    "    # Convert holiday packages to dictionaries for comparison\n",
    "    filtered_holiday['holiday_feature'] = filtered_holiday['holiday_feature'].apply(extract_dictionary_from_string)\n",
    "\n",
    "    # Compare user requirements with holiday packages\n",
    "    mask = filtered_holiday['holiday_feature'].apply(\n",
    "        lambda x: all(user_requirements.get(key) == x.get(key) for key in user_requirements)\n",
    "    )\n",
    "    \n",
    "    result_df = filtered_holiday[mask]\n",
    "\n",
    "    return result_df.to_json(orient='records')"
   ]
  },
  {
   "cell_type": "markdown",
   "id": "e1faebdc",
   "metadata": {
    "id": "e1faebdc"
   },
   "source": [
    "Now that you have the `compare_holiday_with_user()` function ready, let's pass the `response_dict_n` to the function to get relevant recommendation."
   ]
  },
  {
   "cell_type": "code",
   "execution_count": 535,
   "id": "c4d3ff4a",
   "metadata": {
    "id": "c4d3ff4a",
    "outputId": "6d66dc75-5eca-49f6-8ba9-bf6a178aabab"
   },
   "outputs": [
    {
     "name": "stdout",
     "output_type": "stream",
     "text": [
      "user_requirements: {'Destination': 'Katra', 'Package': 'Premium', 'Origin': 'Mumbai', 'Duration': '5', 'Budget': '50000 INR'}\n",
      "[]\n"
     ]
    }
   ],
   "source": [
    "recommended_holiday = compare_holiday_with_user(response_dict_n)\n",
    "print(recommended_holiday)"
   ]
  },
  {
   "cell_type": "markdown",
   "id": "f0e2eb10",
   "metadata": {
    "id": "f0e2eb10"
   },
   "source": [
    "### 3.4: Product Recommendation Layer\n",
    "\n",
    "Finally, we come to the product recommendation layer. It takes the output from the `compare_holiday_with_user` function in the previous layer and provides the recommendations to the user. It has the following steps.\n",
    "1. Initialize the conversation for recommendation.\n",
    "2. Generate the recommendations and display in a presentable format.\n",
    "3. Ask questions basis the recommendations.\n",
    "\n"
   ]
  },
  {
   "cell_type": "code",
   "execution_count": 536,
   "id": "6270ac40",
   "metadata": {
    "id": "6270ac40"
   },
   "outputs": [],
   "source": [
    "def initialize_conv_reco(products):\n",
    "    system_message = f\"\"\"\n",
    "    You are an intelligent holiday expert and you are tasked with the objective to \\\n",
    "    solve the user queries about any product from the catalogue: {products}.\\\n",
    "    You should keep the user requirements in mind while answering the questions.\\\n",
    "\n",
    "    Start with a brief summary of each holiday in the following format, in decreasing order of price per person:\n",
    "    1. <Holiday Name> : <Major attractions of the holiday>, <Price per person in Rs>\n",
    "    2. <Holiday Name> : <Major attractions of the holiday>, <Price per person in Rs>\n",
    "\n",
    "    \"\"\"\n",
    "    conversation = [{\"role\": \"system\", \"content\": system_message }]\n",
    "    return conversation"
   ]
  },
  {
   "cell_type": "markdown",
   "id": "e0a66294",
   "metadata": {
    "id": "e0a66294"
   },
   "source": [
    "Let's initialize the conversation for recommendation."
   ]
  },
  {
   "cell_type": "code",
   "execution_count": 537,
   "id": "bd95e8c5",
   "metadata": {
    "id": "bd95e8c5"
   },
   "outputs": [],
   "source": [
    "debug_conversation_reco = initialize_conv_reco(recommended_holiday)"
   ]
  },
  {
   "cell_type": "markdown",
   "id": "3789430c",
   "metadata": {
    "id": "3789430c"
   },
   "source": [
    "Let's see what the assistant responds with the new initialization."
   ]
  },
  {
   "cell_type": "code",
   "execution_count": 538,
   "id": "03d11a08",
   "metadata": {
    "id": "03d11a08",
    "outputId": "315d30de-f6c7-48cc-c174-3fedfd49cd6f"
   },
   "outputs": [
    {
     "name": "stdout",
     "output_type": "stream",
     "text": [
      "I'm sorry, but it seems that there are no holidays in the catalogue to provide information about. If you have any other questions or need assistance with something else, feel free to ask!\n",
      "\n"
     ]
    }
   ],
   "source": [
    "debug_recommendation = get_chat_model_completions(debug_conversation_reco)\n",
    "print(debug_recommendation + '\\n')"
   ]
  },
  {
   "cell_type": "markdown",
   "id": "4ad208c0",
   "metadata": {
    "id": "4ad208c0"
   },
   "source": [
    "Now, you can converse with the chatbot on the filtered products."
   ]
  },
  {
   "cell_type": "code",
   "execution_count": 539,
   "id": "ad228dc6",
   "metadata": {
    "id": "ad228dc6"
   },
   "outputs": [],
   "source": [
    "debug_conversation_reco.append({\"role\": \"assistant\", \"content\": debug_recommendation})"
   ]
  },
  {
   "cell_type": "code",
   "execution_count": 540,
   "id": "d8735368",
   "metadata": {
    "id": "d8735368"
   },
   "outputs": [],
   "source": [
    "debug_user_input = \"Will it cover some adventure activities?\""
   ]
  },
  {
   "cell_type": "code",
   "execution_count": 541,
   "id": "8885e9fc",
   "metadata": {
    "id": "8885e9fc",
    "outputId": "ff9428bf-232a-497d-ae8a-9883f96a7ff5"
   },
   "outputs": [
    {
     "name": "stdout",
     "output_type": "stream",
     "text": [
      "\n",
      "Since there are no specific holidays in the catalogue to refer to, I don't have information on adventure activities included in any particular holiday at the moment. However, if you have a destination in mind or specific activities you are interested in, I can help suggest some adventurous holiday options for you. Just let me know your preferences!\n",
      "\n"
     ]
    }
   ],
   "source": [
    "debug_conversation_reco.append({\"role\": \"user\", \"content\": debug_user_input})\n",
    "debug_response_asst_reco = get_chat_model_completions(debug_conversation_reco)\n",
    "print('\\n' + debug_response_asst_reco + '\\n')"
   ]
  },
  {
   "cell_type": "markdown",
   "id": "39df2113",
   "metadata": {
    "id": "39df2113"
   },
   "source": [
    "You can repeat the process of appending the assistant and user messages and test the chatbot out."
   ]
  },
  {
   "cell_type": "markdown",
   "id": "8156fc35",
   "metadata": {
    "id": "8156fc35"
   },
   "source": [
    "### 3.5 Dialogue Management System\n",
    "\n",
    "Bringing everything together, we create a `diagloue_mgmt_system()` function that contains the logic of how the different layers would interact with each other. This will be the function that we'll call to initiate the chatbot"
   ]
  },
  {
   "cell_type": "code",
   "execution_count": 542,
   "id": "7cc0b78a-4a40-4ec8-91b8-f6f92a128a30",
   "metadata": {},
   "outputs": [],
   "source": [
    "def dialogue_mgmt_system():\n",
    "    conversation = initialize_conversation()\n",
    "    \n",
    "    introduction = get_chat_model_completions(conversation)\n",
    "    print(introduction + '\\n')\n",
    "    recommended_holiday = None\n",
    "    user_input = ''\n",
    "\n",
    "    while user_input.lower() != \"exit\":\n",
    "        user_input = input(\"\")\n",
    "\n",
    "        moderation = moderation_check(user_input)\n",
    "        if moderation == 'Flagged':\n",
    "            print(\"Sorry, this message has been flagged. Please restart your conversation.\")\n",
    "            break\n",
    "\n",
    "        if recommended_holiday is None:\n",
    "            conversation.append({\"role\": \"user\", \"content\": user_input})\n",
    "\n",
    "            response_assistant = get_chat_model_completions(conversation)\n",
    "\n",
    "            moderation = moderation_check(response_assistant)\n",
    "            if moderation == 'Flagged':\n",
    "                print(\"Sorry, this message has been flagged. Please restart your conversation.\")\n",
    "                break\n",
    "\n",
    "            confirmation = intent_confirmation_layer(response_assistant)\n",
    "            print(\"Intent Confirmation Yes/No:\", confirmation.get('result'))\n",
    "\n",
    "            if \"No\" in confirmation:\n",
    "                conversation.append({\"role\": \"assistant\", \"content\": response_assistant})\n",
    "                print(\"\\n\")\n",
    "                print(response_assistant)\n",
    "            else:\n",
    "                print(\"\\n\")\n",
    "                print(response_assistant)\n",
    "                \n",
    "                # Extract user details from response\n",
    "                response = dictionary_present(response_assistant)\n",
    "\n",
    "                if not response or not isinstance(response, dict):  # Check if extraction failed\n",
    "                    continue\n",
    "\n",
    "                required_keys = {'Destination', 'Package', 'Origin', 'Duration', 'Budget'}\n",
    "                missing_keys = required_keys - set(response.keys())\n",
    "\n",
    "                if missing_keys:\n",
    "                    print(f\"\\nIt looks like some details are missing: {', '.join(missing_keys)}.\")\n",
    "                    print(\"Can you please provide the missing details?\")\n",
    "                    continue  # Ask user for details again\n",
    "\n",
    "                print(\"\\nThank you for providing all the information. Kindly wait, while I fetch the products: \\n\")\n",
    "\n",
    "                # Safe deletion of Budget key\n",
    "                response.pop('Budget', None)\n",
    "\n",
    "                # Compare user requirements with available holidays\n",
    "                recommended_holiday = compare_holiday_with_user(response)\n",
    "\n",
    "                conversation_reco = initialize_conv_reco(recommended_holiday)\n",
    "                conversation_reco.append({\"role\": \"user\", \"content\": \"This is my user tour details: \" + str(response)})\n",
    "                recommendation = get_chat_model_completions(conversation_reco)\n",
    "\n",
    "                moderation = moderation_check(recommendation)\n",
    "                if moderation == 'Flagged':\n",
    "                    print(\"Sorry, this message has been flagged. Please restart your conversation.\")\n",
    "                    break\n",
    "\n",
    "                conversation_reco.append({\"role\": \"assistant\", \"content\": str(recommendation)})\n",
    "                print(str(recommendation) + '\\n')\n",
    "\n",
    "        else:\n",
    "            conversation_reco.append({\"role\": \"user\", \"content\": user_input})\n",
    "\n",
    "            response_asst_reco = get_chat_model_completions(conversation_reco)\n",
    "\n",
    "            moderation = moderation_check(response_asst_reco)\n",
    "            if moderation == 'Flagged':\n",
    "                print(\"Sorry, this message has been flagged. Please restart your conversation.\")\n",
    "                break\n",
    "\n",
    "            print('\\n' + response_asst_reco + '\\n')\n",
    "            conversation.append({\"role\": \"assistant\", \"content\": response_asst_reco})\n"
   ]
  },
  {
   "cell_type": "code",
   "execution_count": 543,
   "id": "aa98299d",
   "metadata": {},
   "outputs": [
    {
     "name": "stdout",
     "output_type": "stream",
     "text": [
      "Welcome! I can help you find the perfect holiday package. Where would you like to go?\n",
      "\n"
     ]
    },
    {
     "name": "stdin",
     "output_type": "stream",
     "text": [
      " I would like to visit goa\n"
     ]
    },
    {
     "name": "stdout",
     "output_type": "stream",
     "text": [
      "Intent Confirmation Yes/No: No\n",
      "\n",
      "\n",
      "Great choice! How many nights do you plan to stay in Goa?\n"
     ]
    },
    {
     "name": "stdin",
     "output_type": "stream",
     "text": [
      " I plan to stay for 6 nights\n"
     ]
    },
    {
     "name": "stdout",
     "output_type": "stream",
     "text": [
      "Intent Confirmation Yes/No: No\n",
      "\n",
      "\n",
      "Great! Which package would you like to choose – Premium, Deluxe, Luxury, or Standard?\n"
     ]
    },
    {
     "name": "stdin",
     "output_type": "stream",
     "text": [
      " I choose Premium package\n"
     ]
    },
    {
     "name": "stdout",
     "output_type": "stream",
     "text": [
      "Intent Confirmation Yes/No: No\n",
      "\n",
      "\n",
      "Great choice! Can you please confirm if your starting city is Mumbai or New Delhi?\n"
     ]
    },
    {
     "name": "stdin",
     "output_type": "stream",
     "text": [
      " Start from New Delhi\n"
     ]
    },
    {
     "name": "stdout",
     "output_type": "stream",
     "text": [
      "Intent Confirmation Yes/No: No\n",
      "\n",
      "\n",
      "Great choice! Could you please share your per-person budget for the trip to Goa?\n"
     ]
    },
    {
     "name": "stdin",
     "output_type": "stream",
     "text": [
      " Per person budget would be around 19000 INR\n"
     ]
    },
    {
     "name": "stdout",
     "output_type": "stream",
     "text": [
      "Intent Confirmation Yes/No: Yes\n",
      "\n",
      "\n",
      "Great choice! Here's a summary of your holiday package preferences:\n",
      "- Destination: Goa\n",
      "- Duration: 6 nights\n",
      "- Package: Premium\n",
      "- Origin: New Delhi\n",
      "- Budget: 19000 INR\n",
      "\n",
      "Based on your preferences, here are the available package options:\n",
      "1. Premium Package - INR 18000 per person\n",
      "2. Deluxe Package - INR 16000 per person\n",
      "3. Luxury Package - INR 22000 per person\n",
      "4. Standard Package - INR 14000 per person\n",
      "\n",
      "Please let me know if you'd like to proceed with any of these packages or if you have any specific requirements.\n",
      "\n",
      "Thank you for providing all the information. Kindly wait, while I fetch the products: \n",
      "\n",
      "user_requirements: {'Destination': 'Goa', 'Duration': '6 nights', 'Package': 'Premium', 'Origin': 'New Delhi'}\n",
      "It seems that you are interested in a premium holiday package to Goa for 6 nights starting from New Delhi. Here are some holiday options for you:\n",
      "\n",
      "1. Luxurious Beach Retreat: Enjoy pristine beaches, water sports, and vibrant nightlife in Goa, with luxurious accommodations and top-notch services. Price per person: Rs 40,000\n",
      "2. Cultural Heritage Tour: Explore Goa's rich history, visit ancient churches, forts, and explore the local culture. Price per person: Rs 25,000\n",
      "\n",
      "Feel free to ask if you have any specific questions or need more details about these holidays!\n",
      "\n"
     ]
    },
    {
     "name": "stdin",
     "output_type": "stream",
     "text": [
      " Change the package to Luxury and provide the recommendations\n"
     ]
    },
    {
     "name": "stdout",
     "output_type": "stream",
     "text": [
      "\n",
      "Here are some luxury holiday options for your trip to Goa for 6 nights starting from New Delhi:\n",
      "\n",
      "1. Exclusive Seaside Villa Experience: Stay in a luxurious seaside villa, relax on private beaches, indulge in gourmet dining, and enjoy personalized services. Price per person: Rs 60,000\n",
      "2. Private Yacht Party: Experience the ultimate luxury with a private yacht party, exclusive dining experiences, and VIP services in Goa. Price per person: Rs 45,000\n",
      "\n",
      "These luxury holiday options offer a premium experience for your trip to Goa. Let me know if you need more details or have any other preferences!\n",
      "\n"
     ]
    },
    {
     "name": "stdin",
     "output_type": "stream",
     "text": [
      " I would like to change the number of nights to 3 nights\n"
     ]
    },
    {
     "name": "stdout",
     "output_type": "stream",
     "text": [
      "\n",
      "Here are some luxury holiday options in Goa for 3 nights starting from New Delhi:\n",
      "\n",
      "1. Luxury Beachfront Villa Experience: Indulge in a lavish stay at a beachfront villa, with private beach access, personalized services, and stunning views. Price per person: Rs 50,000\n",
      "2. Exclusive Spa Retreat: Relax and rejuvenate at a luxury spa resort, enjoy world-class spa treatments, gourmet dining, and serene surroundings. Price per person: Rs 35,000\n",
      "\n",
      "These holidays offer a luxurious experience and are perfect for a short yet indulgent getaway. Let me know if you need more information or have any other preferences!\n",
      "\n"
     ]
    },
    {
     "name": "stdin",
     "output_type": "stream",
     "text": [
      " exit\n"
     ]
    },
    {
     "name": "stdout",
     "output_type": "stream",
     "text": [
      "\n",
      "If you have any more questions in the future or need further assistance, feel free to ask. Have a great day!\n",
      "\n"
     ]
    }
   ],
   "source": [
    "dialogue_mgmt_system()"
   ]
  },
  {
   "cell_type": "code",
   "execution_count": null,
   "id": "25236204-6b5c-420f-a4bc-e8576fb8af60",
   "metadata": {},
   "outputs": [],
   "source": []
  }
 ],
 "metadata": {
  "colab": {
   "provenance": []
  },
  "kernelspec": {
   "display_name": "Python 3 (ipykernel)",
   "language": "python",
   "name": "python3"
  },
  "language_info": {
   "codemirror_mode": {
    "name": "ipython",
    "version": 3
   },
   "file_extension": ".py",
   "mimetype": "text/x-python",
   "name": "python",
   "nbconvert_exporter": "python",
   "pygments_lexer": "ipython3",
   "version": "3.11.7"
  }
 },
 "nbformat": 4,
 "nbformat_minor": 5
}
